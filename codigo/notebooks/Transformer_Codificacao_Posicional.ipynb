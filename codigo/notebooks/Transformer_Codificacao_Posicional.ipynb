{
  "nbformat": 4,
  "nbformat_minor": 0,
  "metadata": {
    "colab": {
      "name": "Transformer - Codificação Posicional.ipynb",
      "provenance": [],
      "collapsed_sections": [],
      "authorship_tag": "ABX9TyNfbEYvGQnNEEakQihREhSD",
      "include_colab_link": true
    },
    "kernelspec": {
      "name": "python3",
      "display_name": "Python 3"
    }
  },
  "cells": [
    {
      "cell_type": "markdown",
      "metadata": {
        "id": "view-in-github",
        "colab_type": "text"
      },
      "source": [
        "<a href=\"https://colab.research.google.com/github/allanbatista/classificacao-de-produtos-no-e-commerce/blob/master/codigo/notebooks/Transformer_Codificacao_Posicional.ipynb\" target=\"_parent\"><img src=\"https://colab.research.google.com/assets/colab-badge.svg\" alt=\"Open In Colab\"/></a>"
      ]
    },
    {
      "cell_type": "markdown",
      "metadata": {
        "id": "R2-5bvfHgek3",
        "colab_type": "text"
      },
      "source": [
        "# Codificação Posicional (Posicional Encoding)"
      ]
    },
    {
      "cell_type": "code",
      "metadata": {
        "id": "lM6LhLeVgdlb",
        "colab_type": "code",
        "colab": {}
      },
      "source": [
        "import tensorflow as tf\n",
        "\n",
        "def posicional_encoding(x):\n",
        "    \"\"\"\n",
        "    https://github.com/tensorflow/tensor2tensor/pull/177\n",
        "\n",
        "    PE(positions, 2i) = sin(posisions * 1 / ( 10000 ^ ( 2i / embedding_dimension) ))\n",
        "    PE(positions, 2i+1) = cos(posisions * 1 / ( 10000 ^ ( 2i / embedding_dimension) ))\n",
        "    \"\"\"\n",
        "    input_shape = tf.shape(x)\n",
        "    batch_size, seq_length, emb_dim = tf.cast(input_shape, dtype=tf.float32)\n",
        "\n",
        "    sequence_positions = tf.cumsum(tf.ones(shape=[batch_size, seq_length], dtype=tf.float32), 1) - 1 # shape=(batch_size, seq_length)\n",
        "    sequence_positions = tf.expand_dims(sequence_positions, 2) # shape=(batch_size, seq_length, 1)\n",
        "\n",
        "    const = 1. / tf.pow(10000., 2. * tf.range(emb_dim // 2, dtype=tf.float32) / emb_dim) # shape=(emb_dim / 2, 0)\n",
        "    const = tf.cast(tf.expand_dims(const, 0), dtype=tf.float32) # shape=(1, emb_dim / 2)\n",
        "\n",
        "    angles = tf.matmul(sequence_positions, const) #shape=(batch_size, seq_length, emb_dim / 2)\n",
        "    posisions = tf.concat([tf.math.cos(angles), tf.math.sin(angles)], 2) #shape=(batch_size, seq_length, emb_dim)\n",
        "\n",
        "    return x + posisions"
      ],
      "execution_count": 32,
      "outputs": []
    },
    {
      "cell_type": "code",
      "metadata": {
        "id": "U55MQ3AnglSo",
        "colab_type": "code",
        "colab": {
          "base_uri": "https://localhost:8080/",
          "height": 225
        },
        "outputId": "f607864f-41d0-46b1-9c6a-c4b30160fbc6"
      },
      "source": [
        "sample_sequence = tf.random.uniform(shape=[2, 5, 2])\n",
        "sample_sequence"
      ],
      "execution_count": 33,
      "outputs": [
        {
          "output_type": "execute_result",
          "data": {
            "text/plain": [
              "<tf.Tensor: shape=(2, 5, 2), dtype=float32, numpy=\n",
              "array([[[0.26484156, 0.8003231 ],\n",
              "        [0.8221879 , 0.5932431 ],\n",
              "        [0.5634736 , 0.8112178 ],\n",
              "        [0.90830576, 0.74487853],\n",
              "        [0.4941579 , 0.58787477]],\n",
              "\n",
              "       [[0.99294484, 0.21522999],\n",
              "        [0.11550105, 0.40101182],\n",
              "        [0.40586925, 0.91038096],\n",
              "        [0.18660271, 0.83135617],\n",
              "        [0.90797865, 0.7912141 ]]], dtype=float32)>"
            ]
          },
          "metadata": {
            "tags": []
          },
          "execution_count": 33
        }
      ]
    },
    {
      "cell_type": "code",
      "metadata": {
        "id": "njui-6jzhDpq",
        "colab_type": "code",
        "colab": {
          "base_uri": "https://localhost:8080/",
          "height": 225
        },
        "outputId": "dd8f3151-01f0-47de-a121-98bf2a39cb04"
      },
      "source": [
        "posicional_encoding(sample_sequence)"
      ],
      "execution_count": 34,
      "outputs": [
        {
          "output_type": "execute_result",
          "data": {
            "text/plain": [
              "<tf.Tensor: shape=(2, 5, 2), dtype=float32, numpy=\n",
              "array([[[ 1.2648416 ,  0.8003231 ],\n",
              "        [ 1.3624902 ,  1.4347141 ],\n",
              "        [ 0.14732677,  1.7205153 ],\n",
              "        [-0.08168674,  0.88599855],\n",
              "        [-0.1594857 , -0.16892773]],\n",
              "\n",
              "       [[ 1.9929448 ,  0.21522999],\n",
              "        [ 0.6558033 ,  1.2424829 ],\n",
              "        [-0.01027757,  1.8196783 ],\n",
              "        [-0.8033898 ,  0.9724762 ],\n",
              "        [ 0.25433505,  0.03441161]]], dtype=float32)>"
            ]
          },
          "metadata": {
            "tags": []
          },
          "execution_count": 34
        }
      ]
    },
    {
      "cell_type": "code",
      "metadata": {
        "id": "WYH0yZ3ZyCQ9",
        "colab_type": "code",
        "colab": {}
      },
      "source": [
        ""
      ],
      "execution_count": null,
      "outputs": []
    }
  ]
}