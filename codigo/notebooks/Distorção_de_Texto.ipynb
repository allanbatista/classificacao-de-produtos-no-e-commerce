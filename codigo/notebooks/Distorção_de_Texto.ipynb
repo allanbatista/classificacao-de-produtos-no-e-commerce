{
  "nbformat": 4,
  "nbformat_minor": 0,
  "metadata": {
    "colab": {
      "name": "Distorção de Texto.ipynb",
      "provenance": [],
      "authorship_tag": "ABX9TyPJGQCPmWgMBF8muxRD8t/2",
      "include_colab_link": true
    },
    "kernelspec": {
      "name": "python3",
      "display_name": "Python 3"
    }
  },
  "cells": [
    {
      "cell_type": "markdown",
      "metadata": {
        "id": "view-in-github",
        "colab_type": "text"
      },
      "source": [
        "<a href=\"https://colab.research.google.com/github/allanbatista/classificacao-de-produtos-no-e-commerce/blob/master/codigo/notebooks/Distor%C3%A7%C3%A3o_de_Texto.ipynb\" target=\"_parent\"><img src=\"https://colab.research.google.com/assets/colab-badge.svg\" alt=\"Open In Colab\"/></a>"
      ]
    },
    {
      "cell_type": "markdown",
      "metadata": {
        "id": "3vIWzZJmQFrp",
        "colab_type": "text"
      },
      "source": [
        "# Distorção de Texto\n",
        "\n",
        "Antes dos textos serem injetados no modelo, eles passam por dois processos de distorção:\n",
        "\n",
        "* remoção de palavras;\n",
        "* troca de posição de palavras\n",
        "\n",
        "### Criação dos dados de Exemplo"
      ]
    },
    {
      "cell_type": "code",
      "metadata": {
        "id": "AED1JHbtP8m3",
        "colab_type": "code",
        "colab": {}
      },
      "source": [
        "def format_print(sequences):\n",
        "  for sequence in sequences.numpy():\n",
        "    print(*[str(x.round(2)).ljust(5) for x in sequence.reshape(-1)])"
      ],
      "execution_count": 21,
      "outputs": []
    },
    {
      "cell_type": "code",
      "metadata": {
        "id": "WHxF3jXZQP-M",
        "colab_type": "code",
        "colab": {
          "base_uri": "https://localhost:8080/",
          "height": 86
        },
        "outputId": "860a3b31-119f-422f-d2d4-25ef6c32cf98"
      },
      "source": [
        "import tensorflow as tf\n",
        "\n",
        "sequences = tf.stack(\n",
        "  [\n",
        "    tf.pad(tf.random.uniform(shape=[8, 1], minval=0, maxval=10), [[0, 0], [0, 0]]),\n",
        "    tf.pad(tf.random.uniform(shape=[7, 1], minval=0, maxval=10), [[0, 1], [0, 0]]),\n",
        "    tf.pad(tf.random.uniform(shape=[6, 1], minval=0, maxval=10), [[0, 2], [0, 0]]),\n",
        "    tf.pad(tf.random.uniform(shape=[5, 1], minval=0, maxval=10), [[0, 3], [0, 0]])\n",
        "  ],\n",
        "  axis=0\n",
        ")\n",
        "\n",
        "format_print(sequences)"
      ],
      "execution_count": 22,
      "outputs": [
        {
          "output_type": "stream",
          "text": [
            "1.88  7.14  6.06  3.7   7.49  7.27  6.07  9.24 \n",
            "4.55  4.43  7.54  9.8   6.89  4.98  1.73  0.0  \n",
            "8.54  1.15  2.13  9.12  4.42  7.33  0.0   0.0  \n",
            "5.31  0.14  0.32  5.15  4.26  0.0   0.0   0.0  \n"
          ],
          "name": "stdout"
        }
      ]
    },
    {
      "cell_type": "markdown",
      "metadata": {
        "id": "NpU8WjnfQeX1",
        "colab_type": "text"
      },
      "source": [
        "### Definição das funções de Distorção do texto\n",
        "\n",
        "* **uniform_random_drop_sequence_fn**: cria uma função para remover uma palavra de uma sequência simples.\n",
        "* **uniform_random_swap_sequence_fn**: cria uma função para trocar aposição de duas palavras em uma sequência simples.\n",
        "* **uniform_random_swap_sequences**: faz a troca de palavras de multiplas sequencias em paralelo.\n",
        "* **uniform_random_drop_sequences**: remove palavras de multiplas sequencias em paralelo.\n",
        "* **uniform_distorce_sequences**: Faz a distorção tanto de remoção quanto de troca de posiçãão de palavras ao mesmo tempo em multiplas sequencias em paralelo."
      ]
    },
    {
      "cell_type": "code",
      "metadata": {
        "id": "0YHfuO92QRhZ",
        "colab_type": "code",
        "colab": {}
      },
      "source": [
        "import tensorflow as tf\n",
        "\n",
        "\n",
        "def uniform_random_drop_sequence_fn(sequence_size: int, minrate: float = 0.1, maxrate: float = 0.1, skip_rate: float = 0.5):\n",
        "    \"\"\"\n",
        "    essa irá remover N elementos da sequencia e irá substituir por um novo elemento (zero) no final da sequencia\n",
        "    \"\"\"\n",
        "\n",
        "    rate = tf.random.uniform(shape=[], minval=minrate, maxval=maxrate)\n",
        "    min_quantity = tf.constant(1, dtype=tf.float32)\n",
        "    skip_rate = tf.constant(skip_rate, dtype=tf.float32)\n",
        "\n",
        "    def _uniform_random_drop_sequence(sequence):\n",
        "        if tf.random.uniform(shape=[], minval=0.0, maxval=1.0) < skip_rate:\n",
        "            return sequence\n",
        "\n",
        "        reduce_sum = tf.reduce_sum(sequence, axis=1)\n",
        "        sequence_clean = tf.boolean_mask(sequence, tf.cast(reduce_sum, dtype=tf.bool))\n",
        "        total_nonzero = tf.math.count_nonzero(reduce_sum)\n",
        "\n",
        "        # too low quantity words. should skip\n",
        "        if total_nonzero <= 4:\n",
        "            return sequence\n",
        "\n",
        "        drop_quantity = tf.math.floor(tf.multiply(tf.cast(total_nonzero, dtype=tf.float32), rate))\n",
        "        drop_quantity = tf.reduce_max([drop_quantity, min_quantity])\n",
        "        drop_quantity = tf.cast(drop_quantity, dtype=tf.int32)\n",
        "\n",
        "        drop_mask_mask = tf.argsort(tf.random.uniform([total_nonzero])) >= drop_quantity\n",
        "\n",
        "        sequence_dropped = tf.boolean_mask(sequence_clean, drop_mask_mask)\n",
        "\n",
        "        right_pad_size = sequence_size - tf.math.count_nonzero(tf.reduce_sum(sequence_dropped, axis=1))\n",
        "        right_pad = tf.zeros((right_pad_size, sequence.get_shape()[1]))\n",
        "\n",
        "        return tf.concat([sequence_dropped, right_pad], axis=0)\n",
        "\n",
        "    return _uniform_random_drop_sequence\n",
        "\n",
        "def uniform_random_swap_sequence_fn(sequence_size: int, minrate: float = 0.1, maxrate: float = 0.1, skip_rate: float = 0.5):\n",
        "    rate = tf.random.uniform(shape=[], minval=minrate, maxval=maxrate)\n",
        "    min_quantity = tf.constant(1, dtype=tf.float32)\n",
        "    skip_rate = tf.constant(skip_rate, dtype=tf.float32)\n",
        "\n",
        "    def _uniform_random_swap_sequence(sequence):\n",
        "        if tf.random.uniform(shape=[], minval=0.0, maxval=1.0) < skip_rate:\n",
        "          return sequence\n",
        "\n",
        "        reduce_sum = tf.reduce_sum(sequence, axis=1)\n",
        "        total_nonzero = tf.math.count_nonzero(reduce_sum)\n",
        "\n",
        "        # too low quantity words. should skip\n",
        "        if total_nonzero <= 2:\n",
        "            return sequence\n",
        "\n",
        "        swap_quantity = tf.math.floor(tf.multiply(tf.cast(total_nonzero, dtype=tf.float32), rate))\n",
        "        swap_quantity = tf.reduce_max([swap_quantity, min_quantity])\n",
        "        swap_quantity = tf.cast(swap_quantity, dtype=tf.int32)\n",
        "\n",
        "        indexies_to_swap = tf.argsort(tf.random.uniform([total_nonzero - 1]))[:swap_quantity]\n",
        "\n",
        "        indexies = tf.range(sequence_size)\n",
        "        indexies = tf.tensor_scatter_nd_update(indexies, tf.reshape(indexies_to_swap, (-1, 1)), indexies_to_swap + 1)\n",
        "        indexies = tf.tensor_scatter_nd_update(indexies, tf.reshape(indexies_to_swap + 1, (-1, 1)), indexies_to_swap)\n",
        "\n",
        "        return tf.gather(sequence, indexies)\n",
        "\n",
        "    return _uniform_random_swap_sequence\n",
        "\n",
        "\n",
        "def uniform_random_swap_sequences(sequences, minrate: float = 0.1, maxrate: float = 0.1, skip_rate: float = 0.5):\n",
        "    map_fn = uniform_random_swap_sequence_fn(sequence_size=sequences.shape[1], minrate=minrate, maxrate=maxrate, skip_rate=skip_rate)\n",
        "    return tf.map_fn(map_fn, sequences, dtype=sequences.dtype, parallel_iterations=sequences.shape[0])\n",
        "\n",
        "\n",
        "def uniform_random_drop_sequences(sequences, minrate: float = 0.1, maxrate: float = 0.1, skip_rate: float = 0.5):\n",
        "    map_fn = uniform_random_drop_sequence_fn(sequence_size=sequences.shape[1], minrate=minrate, maxrate=maxrate, skip_rate=skip_rate)\n",
        "    return tf.map_fn(map_fn, sequences, dtype=sequences.dtype, parallel_iterations=sequences.shape[0])\n",
        "\n",
        "\n",
        "def uniform_distorce_sequences(sequences,\n",
        "                               drop_minrate=0.1, drop_maxrate=0.1,\n",
        "                               swap_minrate=0.1, swap_maxrate=0.1,\n",
        "                               drop_skip_rate=0.5, swap_skip_rate=0.5):\n",
        "    _sequences = uniform_random_drop_sequences(sequences, minrate=drop_minrate, maxrate=drop_maxrate, skip_rate=drop_skip_rate)\n",
        "    _sequences = uniform_random_swap_sequences(_sequences, minrate=swap_minrate, maxrate=swap_maxrate, skip_rate=swap_skip_rate)\n",
        "    return _sequences"
      ],
      "execution_count": 28,
      "outputs": []
    },
    {
      "cell_type": "markdown",
      "metadata": {
        "id": "OrTJCsV_Rj-D",
        "colab_type": "text"
      },
      "source": [
        "#### Exemplo de remoção de palavras"
      ]
    },
    {
      "cell_type": "code",
      "metadata": {
        "id": "4JwTbgaUQggo",
        "colab_type": "code",
        "colab": {
          "base_uri": "https://localhost:8080/",
          "height": 364
        },
        "outputId": "7a0fb1f2-7e9f-42ce-8130-0f6ca78ad6c1"
      },
      "source": [
        "for rate in tf.range(0.0, 1, 0.25):\n",
        "  print(f\"rate={rate}\")\n",
        "  format_print(uniform_random_drop_sequences(sequences, minrate=rate, maxrate=rate, skip_rate=0.0))"
      ],
      "execution_count": 24,
      "outputs": [
        {
          "output_type": "stream",
          "text": [
            "rate=0.0\n",
            "1.88  7.14  3.7   7.49  7.27  6.07  9.24  0.0  \n",
            "4.43  7.54  9.8   6.89  4.98  1.73  0.0   0.0  \n",
            "8.54  1.15  2.13  9.12  7.33  0.0   0.0   0.0  \n",
            "5.31  0.14  0.32  5.15  0.0   0.0   0.0   0.0  \n",
            "rate=0.25\n",
            "1.88  3.7   7.49  7.27  6.07  9.24  0.0   0.0  \n",
            "4.55  4.43  7.54  9.8   4.98  1.73  0.0   0.0  \n",
            "8.54  1.15  9.12  4.42  7.33  0.0   0.0   0.0  \n",
            "0.14  0.32  5.15  4.26  0.0   0.0   0.0   0.0  \n",
            "rate=0.5\n",
            "1.88  3.7   7.27  6.07  0.0   0.0   0.0   0.0  \n",
            "4.55  4.43  7.54  1.73  0.0   0.0   0.0   0.0  \n",
            "8.54  9.12  4.42  0.0   0.0   0.0   0.0   0.0  \n",
            "5.31  0.14  0.32  0.0   0.0   0.0   0.0   0.0  \n",
            "rate=0.75\n",
            "7.27  6.07  0.0   0.0   0.0   0.0   0.0   0.0  \n",
            "4.43  6.89  0.0   0.0   0.0   0.0   0.0   0.0  \n",
            "8.54  2.13  0.0   0.0   0.0   0.0   0.0   0.0  \n",
            "5.31  5.15  0.0   0.0   0.0   0.0   0.0   0.0  \n"
          ],
          "name": "stdout"
        }
      ]
    },
    {
      "cell_type": "markdown",
      "metadata": {
        "id": "dijQkKc6RpSM",
        "colab_type": "text"
      },
      "source": [
        "#### Exemplo troca de palavras de posição"
      ]
    },
    {
      "cell_type": "code",
      "metadata": {
        "id": "hAM_vlX7Qmq6",
        "colab_type": "code",
        "colab": {
          "base_uri": "https://localhost:8080/",
          "height": 364
        },
        "outputId": "50b11fd8-25c0-48f2-d3d4-7961f7bcf013"
      },
      "source": [
        "for rate in tf.range(0.0, 1, 0.25):\n",
        "  print(f\"rate={rate}\")\n",
        "  format_print(uniform_random_swap_sequences(sequences, minrate=rate, maxrate=rate, skip_rate=0.0))"
      ],
      "execution_count": 25,
      "outputs": [
        {
          "output_type": "stream",
          "text": [
            "rate=0.0\n",
            "1.88  7.14  6.06  3.7   7.49  6.07  7.27  9.24 \n",
            "4.55  4.43  7.54  9.8   6.89  1.73  4.98  0.0  \n",
            "8.54  1.15  2.13  9.12  7.33  4.42  0.0   0.0  \n",
            "5.31  0.14  5.15  0.32  4.26  0.0   0.0   0.0  \n",
            "rate=0.25\n",
            "1.88  6.06  7.14  3.7   7.49  6.07  7.27  9.24 \n",
            "4.55  4.43  7.54  9.8   6.89  1.73  4.98  0.0  \n",
            "1.15  8.54  2.13  9.12  4.42  7.33  0.0   0.0  \n",
            "5.31  0.14  0.32  4.26  5.15  0.0   0.0   0.0  \n",
            "rate=0.5\n",
            "7.14  1.88  7.14  6.06  7.27  7.49  6.07  9.24 \n",
            "4.43  4.55  7.54  6.89  9.8   6.89  1.73  0.0  \n",
            "1.15  8.54  1.15  4.42  9.12  7.33  0.0   0.0  \n",
            "5.31  0.14  5.15  0.32  5.15  0.0   0.0   0.0  \n",
            "rate=0.75\n",
            "7.14  1.88  7.14  6.06  3.7   7.49  7.27  9.24 \n",
            "4.43  4.55  4.43  7.54  9.8   6.89  1.73  0.0  \n",
            "1.15  8.54  1.15  2.13  7.33  4.42  0.0   0.0  \n",
            "0.14  5.31  5.15  0.32  5.15  0.0   0.0   0.0  \n"
          ],
          "name": "stdout"
        }
      ]
    },
    {
      "cell_type": "markdown",
      "metadata": {
        "id": "uwi1Au01SZeW",
        "colab_type": "text"
      },
      "source": [
        "### Exemplo de remoção e troca de posição de palavras."
      ]
    },
    {
      "cell_type": "code",
      "metadata": {
        "id": "a6k6KEggRvdZ",
        "colab_type": "code",
        "colab": {
          "base_uri": "https://localhost:8080/",
          "height": 364
        },
        "outputId": "018fba92-5e3a-4331-81de-54a4170dd403"
      },
      "source": [
        "for rate in tf.range(0.0, 1, 0.25):\n",
        "  print(f\"rate={rate}\")\n",
        "  format_print(uniform_distorce_sequences(sequences,\n",
        "                                            drop_minrate=rate, drop_maxrate=rate,\n",
        "                                            swap_minrate=rate, swap_maxrate=rate,\n",
        "                                            drop_skip_rate=0.0, swap_skip_rate=0.0))"
      ],
      "execution_count": 29,
      "outputs": [
        {
          "output_type": "stream",
          "text": [
            "rate=0.0\n",
            "7.14  1.88  6.06  3.7   7.49  6.07  9.24  0.0  \n",
            "4.43  4.55  7.54  9.8   6.89  1.73  0.0   0.0  \n",
            "8.54  2.13  1.15  9.12  7.33  0.0   0.0   0.0  \n",
            "5.31  5.15  0.32  4.26  0.0   0.0   0.0   0.0  \n",
            "rate=0.25\n",
            "7.14  6.06  7.49  7.27  9.24  6.07  0.0   0.0  \n",
            "4.55  9.8   7.54  6.89  4.98  1.73  0.0   0.0  \n",
            "1.15  8.54  2.13  4.42  7.33  0.0   0.0   0.0  \n",
            "0.14  5.31  0.32  4.26  0.0   0.0   0.0   0.0  \n",
            "rate=0.5\n",
            "7.14  1.88  7.14  6.07  0.0   0.0   0.0   0.0  \n",
            "6.89  9.8   6.89  1.73  0.0   0.0   0.0   0.0  \n",
            "2.13  8.54  4.42  0.0   0.0   0.0   0.0   0.0  \n",
            "0.14  4.26  0.32  0.0   0.0   0.0   0.0   0.0  \n",
            "rate=0.75\n",
            "3.7   7.27  0.0   0.0   0.0   0.0   0.0   0.0  \n",
            "9.8   1.73  0.0   0.0   0.0   0.0   0.0   0.0  \n",
            "1.15  2.13  0.0   0.0   0.0   0.0   0.0   0.0  \n",
            "5.31  0.14  0.0   0.0   0.0   0.0   0.0   0.0  \n"
          ],
          "name": "stdout"
        }
      ]
    },
    {
      "cell_type": "code",
      "metadata": {
        "id": "vz9JI3cWSYZe",
        "colab_type": "code",
        "colab": {}
      },
      "source": [
        ""
      ],
      "execution_count": null,
      "outputs": []
    }
  ]
}