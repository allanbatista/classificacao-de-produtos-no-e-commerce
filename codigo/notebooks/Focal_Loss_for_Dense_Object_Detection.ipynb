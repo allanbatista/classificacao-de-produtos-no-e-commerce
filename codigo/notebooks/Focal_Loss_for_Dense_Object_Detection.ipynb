{
  "nbformat": 4,
  "nbformat_minor": 0,
  "metadata": {
    "colab": {
      "name": "Focal Loss for Dense Object Detection.ipynb",
      "provenance": [],
      "collapsed_sections": [],
      "authorship_tag": "ABX9TyNC5w0/jldzKcE7tkXBaZsp",
      "include_colab_link": true
    },
    "kernelspec": {
      "name": "python3",
      "display_name": "Python 3"
    }
  },
  "cells": [
    {
      "cell_type": "markdown",
      "metadata": {
        "id": "view-in-github",
        "colab_type": "text"
      },
      "source": [
        "<a href=\"https://colab.research.google.com/github/allanbatista/classificacao-de-produtos-no-e-commerce/blob/master/codigo/notebooks/Focal_Loss_for_Dense_Object_Detection.ipynb\" target=\"_parent\"><img src=\"https://colab.research.google.com/assets/colab-badge.svg\" alt=\"Open In Colab\"/></a>"
      ]
    },
    {
      "cell_type": "code",
      "metadata": {
        "id": "iQpsv9gg4UWk",
        "colab_type": "code",
        "colab": {}
      },
      "source": [
        ""
      ],
      "execution_count": null,
      "outputs": []
    },
    {
      "cell_type": "markdown",
      "metadata": {
        "id": "xnvHQO-W4Z4R",
        "colab_type": "text"
      },
      "source": [
        "# Focal Loss for Dense Object Detection\n",
        "\n",
        "Função de para classes com alto grau de desbalanceamento."
      ]
    },
    {
      "cell_type": "code",
      "metadata": {
        "id": "Z7naeU554U6A",
        "colab_type": "code",
        "colab": {}
      },
      "source": [
        "import tensorflow as tf\n",
        "\n",
        "\n",
        "def focal_loss(y_true, y_pred):\n",
        "    \"\"\"\n",
        "    Focal Loss for Dense Object Detection\n",
        "    https://arxiv.org/abs/1708.02002\n",
        "\n",
        "    FL(p) = −α((1−p)^l)*log(p).\n",
        "\n",
        "    Keyword Arguments:\n",
        "        gamma {float} -- (default: {2.0})\n",
        "        alpha {float} -- (default: {4.0})\n",
        "\n",
        "    Returns:\n",
        "        [tensor] -- loss.\n",
        "    \"\"\"\n",
        "    gamma = tf.constant(2.0)\n",
        "    alpha = tf.constant(0.25)\n",
        "    epsilon = tf.constant(1.e-7)\n",
        "\n",
        "    \"\"\"\n",
        "    y_true - True Labels in One Hot encoded\n",
        "    y_pred - Predictions\n",
        "    \"\"\"\n",
        "    # make problem even hard\n",
        "    y_pred = tf.add(y_pred, epsilon)\n",
        "\n",
        "    # Cross Entropy\n",
        "    # https://en.wikipedia.org/wiki/Cross_entropy\n",
        "    ce = tf.multiply(y_true, -tf.math.log(y_pred))\n",
        "\n",
        "    # Class-Balanced Loss Based on Effective Number of Samples\n",
        "    # https://arxiv.org/abs/1901.05555\n",
        "    weight = tf.multiply(y_true, tf.pow(tf.subtract(1., y_pred), gamma))\n",
        "\n",
        "    # Focal Loss\n",
        "    # FL(p) =−α((1−p)^l)*log(p).\n",
        "    # https://arxiv.org/abs/1708.02002\n",
        "    fl = tf.multiply(alpha, tf.multiply(weight, ce))\n",
        "\n",
        "    # get max loss by class\n",
        "    return tf.reduce_max(fl, axis=1)"
      ],
      "execution_count": 1,
      "outputs": []
    },
    {
      "cell_type": "code",
      "metadata": {
        "id": "5JT73lNw4WyM",
        "colab_type": "code",
        "colab": {}
      },
      "source": [
        ""
      ],
      "execution_count": null,
      "outputs": []
    }
  ]
}