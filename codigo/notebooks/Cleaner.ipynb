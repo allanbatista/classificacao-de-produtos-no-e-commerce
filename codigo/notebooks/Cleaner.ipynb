{
  "nbformat": 4,
  "nbformat_minor": 0,
  "metadata": {
    "colab": {
      "name": "Cleaner.ipynb",
      "provenance": [],
      "collapsed_sections": [],
      "authorship_tag": "ABX9TyOB3rKF1+/bUniK2GKme9NX",
      "include_colab_link": true
    },
    "kernelspec": {
      "name": "python3",
      "display_name": "Python 3"
    }
  },
  "cells": [
    {
      "cell_type": "markdown",
      "metadata": {
        "id": "view-in-github",
        "colab_type": "text"
      },
      "source": [
        "<a href=\"https://colab.research.google.com/github/allanbatista/classificacao-de-produtos-no-e-commerce/blob/master/codigo/notebooks/Cleaner.ipynb\" target=\"_parent\"><img src=\"https://colab.research.google.com/assets/colab-badge.svg\" alt=\"Open In Colab\"/></a>"
      ]
    },
    {
      "cell_type": "code",
      "metadata": {
        "id": "a5XAWov9CwsP",
        "colab_type": "code",
        "colab": {}
      },
      "source": [
        "import re\n",
        " \n",
        "re_html = re.compile(r\"<[^>]*>\")\n",
        "re_especial = re.compile(r'^[\\-\\.\\,]+|\\s[\\-\\.\\,]+|[\\-\\.\\,]+\\s|[\\-\\.\\,]+$')\n",
        "re_chars = re.compile(r'[^a-z0-9àáâãçéêíóôõúü+\\-\\\"\\s\\.\\,]')\n",
        "re_lines = re.compile(r'\\n')\n",
        "re_spaces = re.compile(r'\\s+')\n",
        " \n",
        "tokens_norm = dict(\n",
        "   zip(\n",
        "       'æ,œ,á,è,ì,ò,ù,ä,ë,ï,ö,ü,ÿ,â,ê,î,ô,û,å,ø,Ø,ñ'.split(\",\"),\n",
        "       'ae,oe,a,e,i,o,u,a,e,i,o,u,y,a,e,i,o,u,a,o,O,n'.split(\",\")\n",
        "   )\n",
        ")\n",
        " \n",
        " \n",
        "def _accent2latin(text):\n",
        "   result = []\n",
        " \n",
        "   for char in text.lower():\n",
        "       newchar = tokens_norm.get(char)\n",
        " \n",
        "       if newchar:\n",
        "           result.append(newchar)\n",
        "       else:\n",
        "           result.append(char)\n",
        " \n",
        "   return \"\".join(result)\n",
        " \n",
        " \n",
        "def clear(text):\n",
        "   text = str(text).lower()\n",
        "   text = _accent2latin(text)\n",
        "   text = re_html.sub(' ', text)\n",
        "   text = re_chars.sub(' ', text)\n",
        "   text = re_lines.sub(' ', text)\n",
        "   text = re_especial.sub(' ', text)\n",
        "   text = re_spaces.sub(' ', text)\n",
        "   return text.strip()"
      ],
      "execution_count": null,
      "outputs": []
    },
    {
      "cell_type": "code",
      "metadata": {
        "id": "wpQ4LFlkC2Qq",
        "colab_type": "code",
        "colab": {
          "base_uri": "https://localhost:8080/",
          "height": 69
        },
        "outputId": "da771901-845a-4184-8905-d210b4234748"
      },
      "source": [
        "texts = [\n",
        "    'Smartphone Samsung Galaxy S10e 128GB Dual Chip Android 9.0 Tela 5,8\" Octa-Core 4G Câmera 12MP + 16MP - Preto',\n",
        "    'Geladeira/Refrigerador Electrolux DC35A Branca 260L Cycle Defrost - 220v',\n",
        "    'Tapete Para Sala Shaggy Requinte Casa Dona 100x150cm Cinza'\n",
        "]\n",
        "\n",
        "for text in texts:\n",
        "    print(clear(text))"
      ],
      "execution_count": null,
      "outputs": [
        {
          "output_type": "stream",
          "text": [
            "smartphone samsung galaxy s10e 128gb dual chip android 9.0 tela 5,8\" octa-core 4g camera 12mp + 16mp preto\n",
            "geladeira refrigerador electrolux dc35a branca 260l cycle defrost 220v\n",
            "tapete para sala shaggy requinte casa dona 100x150cm cinza\n"
          ],
          "name": "stdout"
        }
      ]
    }
  ]
}