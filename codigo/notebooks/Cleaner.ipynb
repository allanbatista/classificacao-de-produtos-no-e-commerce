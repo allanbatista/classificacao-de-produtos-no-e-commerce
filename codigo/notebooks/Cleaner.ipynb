{
  "nbformat": 4,
  "nbformat_minor": 0,
  "metadata": {
    "colab": {
      "name": "Cleaner.ipynb",
      "provenance": [],
      "authorship_tag": "ABX9TyOl6nfPDoQ6C1p8ShHo+PNQ",
      "include_colab_link": true
    },
    "kernelspec": {
      "name": "python3",
      "display_name": "Python 3"
    }
  },
  "cells": [
    {
      "cell_type": "markdown",
      "metadata": {
        "id": "view-in-github",
        "colab_type": "text"
      },
      "source": [
        "<a href=\"https://colab.research.google.com/github/allanbatista/classificacao-de-produtos-no-e-commerce/blob/master/codigo/notebooks/Cleaner.ipynb\" target=\"_parent\"><img src=\"https://colab.research.google.com/assets/colab-badge.svg\" alt=\"Open In Colab\"/></a>"
      ]
    },
    {
      "cell_type": "code",
      "metadata": {
        "id": "a5XAWov9CwsP",
        "colab_type": "code",
        "colab": {}
      },
      "source": [
        "import re\n",
        " \n",
        "re_html = re.compile(r\"<[^>]*>\")\n",
        "re_especial = re.compile(r'^[\\-\\.\\,]+|\\s[\\-\\.\\,]+|[\\-\\.\\,]+\\s|[\\-\\.\\,]+$')\n",
        "re_chars = re.compile(r'[^a-z0-9àáâãçéêíóôõúü+\\-\\\"\\s\\.\\,]')\n",
        "re_lines = re.compile(r'\\n')\n",
        "re_spaces = re.compile(r'\\s+')\n",
        " \n",
        "tokens_norm = dict(\n",
        "   zip(\n",
        "       'æ,œ,á,è,ì,ò,ù,ä,ë,ï,ö,ü,ÿ,â,ê,î,ô,û,å,ø,Ø,ñ'.split(\",\"),\n",
        "       'ae,oe,a,e,i,o,u,a,e,i,o,u,y,a,e,i,o,u,a,o,O,n'.split(\",\")\n",
        "   )\n",
        ")\n",
        " \n",
        " \n",
        "def _accent2latin(text):\n",
        "   result = []\n",
        " \n",
        "   for char in text.lower():\n",
        "       newchar = tokens_norm.get(char)\n",
        " \n",
        "       if newchar:\n",
        "           result.append(newchar)\n",
        "       else:\n",
        "           result.append(char)\n",
        " \n",
        "   return \"\".join(result)\n",
        " \n",
        " \n",
        "def clear(text):\n",
        "   text = str(text).lower()\n",
        "   text = _accent2latin(text)\n",
        "   text = re_html.sub(' ', text)\n",
        "   text = re_chars.sub(' ', text)\n",
        "   text = re_lines.sub(' ', text)\n",
        "   text = re_especial.sub(' ', text)\n",
        "   text = re_spaces.sub(' ', text)\n",
        "   return text.strip()"
      ],
      "execution_count": 1,
      "outputs": []
    },
    {
      "cell_type": "code",
      "metadata": {
        "id": "wpQ4LFlkC2Qq",
        "colab_type": "code",
        "colab": {}
      },
      "source": [
        ""
      ],
      "execution_count": null,
      "outputs": []
    }
  ]
}